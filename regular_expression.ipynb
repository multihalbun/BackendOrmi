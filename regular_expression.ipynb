{
  "nbformat": 4,
  "nbformat_minor": 0,
  "metadata": {
    "colab": {
      "provenance": [],
      "toc_visible": true,
      "authorship_tag": "ABX9TyP4F5blHpLO/nw7bIEbdCbt",
      "include_colab_link": true
    },
    "kernelspec": {
      "name": "python3",
      "display_name": "Python 3"
    },
    "language_info": {
      "name": "python"
    }
  },
  "cells": [
    {
      "cell_type": "markdown",
      "metadata": {
        "id": "view-in-github",
        "colab_type": "text"
      },
      "source": [
        "<a href=\"https://colab.research.google.com/github/multihalbun/BackendOrmi/blob/main/regular_expression.ipynb\" target=\"_parent\"><img src=\"https://colab.research.google.com/assets/colab-badge.svg\" alt=\"Open In Colab\"/></a>"
      ]
    },
    {
      "cell_type": "markdown",
      "source": [
        "# 정규표현식\n",
        "* Anchors (처음과 끝)\n",
        "    ```\n",
        "    /^hello/gm : 처음에 hello\n",
        "    /hello$/gm : 끝에 hello\n",
        "    ```\n",
        "\n",
        "* dot (모든 문자)\n",
        "    ```\n",
        "    /.ello/gm : hello, Hello, vello\n",
        "    /./gm : 모든 문자열(*과 같은 역할)\n",
        "    /....../gm : 모든 6개의 문자열\n",
        "    ```\n",
        "\n",
        "* 대괄호 (택1)\n",
        "    ```\n",
        "    /h[eay]llo/gm : 대괄호 안에 문자는 문자 1개에 해당!\n",
        "    /h[ea]l../gm : 총 5개의 문자\n",
        "    ```\n",
        "\n",
        "* 대쉬 (범위)\n",
        "    ```\n",
        "    /h[a-f]llo/gm\n",
        "    /[a-zA-Z0-9]/gm : 모든 알파뱃과 숫자를 찾음\n",
        "    /[^a-zA-Z0-9]/gm : 나머지 문자열을 찾음\n",
        "    ```\n",
        "\n",
        "* 캐럿(caret) (대괄호 안에 들어가면 부정)\n",
        "    * 아래 경우 a와 e가 모두 부정\n",
        "        ```\n",
        "        /h[^ae]llo/gm : 대괄호 안에 있다면 not에 의미\n",
        "        ```\n",
        "\n",
        "* 소괄호 (서브패턴, 그룹)\n",
        "    * 패턴으로 외우시는 것보다 다양한 예제로 습득하시기를 권해드립니다.\n",
        "    ```\n",
        "    /(on|ues|rida)/gm : 그룹 1로 3개 중 매칭되는 패턴 찾음\n",
        "    ```\n",
        "\n",
        "* 수량자\n",
        "    ```\n",
        "    _* : 앞에 있는 문자가 0개 ~ N개\n",
        "    _+ : 앞에 있는 문자가 1개 ~ N개\n",
        "    _? : 앞에 있는 문자가 0개 ~ 1개\n",
        "\n",
        "    {3} : 3개\n",
        "    {3,} : 3개 이상\n",
        "    {1,3} : 1개 ~ 3개\n",
        "\n",
        "    _* : 앞에 있는 문자가 0개 ~ N개 ({0,})\n",
        "    _+ : 앞에 있는 문자가 1개 ~ N개({1,})\n",
        "    _? : 앞에 있는 문자가 0개 ~ 1개 ({0,1})\n",
        "\n",
        "    /[0-9]{3}[-.* ][0-9]{4}[-.* ][0-9]{4}/gm\n",
        "    /[0-9a-zA-Z]{2,3}[-.* ][0-9]{3,4}[-.* ][0-9]{4}/gm\n",
        "    /[0-9a-zA-Z]+@[0-9a-zA-Z]+.[a-zA-Z]+/gm\n",
        "    ```\n",
        "\n",
        "* 캐릭터 클래스\n",
        "    ```\n",
        "    /\\w/gm : 워드\n",
        "    /\\w{5} /gm : 5개의 글자와 스페이스 하나\n",
        "    /\\W/gm : not 워드\n",
        "    /\\d/gm : 숫자\n",
        "    /\\D/gm : not 숫자\n",
        "    /\\s/gm : 스페이스\n",
        "    /\\S/gm : not 스페이스\n",
        "    ```\n",
        "\n",
        "* 이스케이프문자\n",
        "    ```\n",
        "    /\\[.*]/gm : 대괄호([]) 안에 감싸여진 문자열\n",
        "    /\\(.*\\)/gm : 소괄호 안에 감싸여진 문자열\n",
        "    /\\\\.*\\//gm : 이미 사용되고 있는 특수문자로 감싸여진 문자열\n",
        "    /-.*-/gm : 이스케이프 문자를 사용할 필요가 없는 경우\n",
        "    /\\^\\^/gm : 이스케이프 문자가 필요한 경우\n",
        "    /:\\)/gm : 이스케이프 문자가 필요한 경우\n",
        "    ```\n",
        "\n",
        "\n",
        "* (연습) 전화번호\n",
        "    ```\n",
        "    010[-,. ]?[0-9]{4}[-,. ]?[0-9]{4}\n",
        "    010([-,. ]?[0-9]{4}){2}\n",
        "    ```\n",
        "\n"
      ],
      "metadata": {
        "id": "HZCYfv041aFg"
      }
    },
    {
      "cell_type": "code",
      "execution_count": null,
      "metadata": {
        "colab": {
          "base_uri": "https://localhost:8080/"
        },
        "id": "HIR-5CKqy5Iz",
        "outputId": "58abf1ab-879d-4dda-b47c-cad83c67a6d4"
      },
      "outputs": [
        {
          "output_type": "execute_result",
          "data": {
            "text/plain": [
              "[('1', 'S', ''), ('2', 'D', '*'), ('3', 'T', '')]"
            ]
          },
          "metadata": {},
          "execution_count": 1
        }
      ],
      "source": [
        "import re\n",
        "\n",
        "p = re.compile(r'([0-9]|10)([SDT])([\\*\\#]?)')\n",
        "p.findall('1S2D*3T')"
      ]
    },
    {
      "cell_type": "markdown",
      "source": [
        "## compile"
      ],
      "metadata": {
        "id": "NMCoGaqZE2Hq"
      }
    },
    {
      "cell_type": "code",
      "source": [
        "import re\n",
        "\n",
        "p = re.compile(r'h[eao]llo')"
      ],
      "metadata": {
        "id": "C7mj2sscE4p5"
      },
      "execution_count": null,
      "outputs": []
    },
    {
      "cell_type": "code",
      "source": [
        "text = '''hello\n",
        "hallo\n",
        "hollo\n",
        "'''\n",
        "text"
      ],
      "metadata": {
        "colab": {
          "base_uri": "https://localhost:8080/",
          "height": 35
        },
        "id": "E98kmu1iFMll",
        "outputId": "3eb92180-df76-4a80-9b1f-d7a455159b66"
      },
      "execution_count": null,
      "outputs": [
        {
          "output_type": "execute_result",
          "data": {
            "text/plain": [
              "'hello\\nhallo\\nhollo\\n'"
            ],
            "application/vnd.google.colaboratory.intrinsic+json": {
              "type": "string"
            }
          },
          "metadata": {},
          "execution_count": 4
        }
      ]
    },
    {
      "cell_type": "markdown",
      "source": [
        "## match"
      ],
      "metadata": {
        "id": "r8Emd76RFqsj"
      }
    },
    {
      "cell_type": "code",
      "source": [
        "# 실무에서는 특정한 패턴이 존재하는지만 사용하는 것으로 많이 사용합니다.\n",
        "# 찾아서 무언가를 하는 것은 findall이나 sub 이런 메서드를 많이 사용합니다."
      ],
      "metadata": {
        "id": "sd4NDgndPMs8"
      },
      "execution_count": null,
      "outputs": []
    },
    {
      "cell_type": "code",
      "source": [
        "import re\n",
        "\n",
        "p = re.compile(r'h[eao]llo')\n",
        "p.match('hello hallo hollo hillo hallo')"
      ],
      "metadata": {
        "colab": {
          "base_uri": "https://localhost:8080/"
        },
        "id": "sLm_tItTFhA2",
        "outputId": "6ec83b49-e9e0-4951-fa97-ae8ed78a1679"
      },
      "execution_count": null,
      "outputs": [
        {
          "output_type": "execute_result",
          "data": {
            "text/plain": [
              "<re.Match object; span=(0, 5), match='hello'>"
            ]
          },
          "metadata": {},
          "execution_count": 9
        }
      ]
    },
    {
      "cell_type": "code",
      "source": [
        "result = p.match('hello hallo hollo hillo hallo')\n",
        "result.group(0)"
      ],
      "metadata": {
        "colab": {
          "base_uri": "https://localhost:8080/",
          "height": 35
        },
        "id": "NRKoZd2rGHE9",
        "outputId": "7b89db1c-8b32-4183-b4c6-bfe4bded1a0a"
      },
      "execution_count": null,
      "outputs": [
        {
          "output_type": "execute_result",
          "data": {
            "text/plain": [
              "'hello'"
            ],
            "application/vnd.google.colaboratory.intrinsic+json": {
              "type": "string"
            }
          },
          "metadata": {},
          "execution_count": 12
        }
      ]
    },
    {
      "cell_type": "code",
      "source": [
        "import re\n",
        "\n",
        "p = re.compile('(\\w+) (\\w+) (\\w+)')\n",
        "result = p.match('hello hallo hollo hillo hallo')\n",
        "result.group(0) # 전체 그룹\n",
        "result.group(1) # 그룹1\n",
        "result.group(2) # 그룹2\n",
        "result.group(3) # 그룹3"
      ],
      "metadata": {
        "colab": {
          "base_uri": "https://localhost:8080/",
          "height": 35
        },
        "id": "sW_sk4TYGjeu",
        "outputId": "81448e2d-002f-4986-b7dd-e6999a466958"
      },
      "execution_count": null,
      "outputs": [
        {
          "output_type": "execute_result",
          "data": {
            "text/plain": [
              "'hollo'"
            ],
            "application/vnd.google.colaboratory.intrinsic+json": {
              "type": "string"
            }
          },
          "metadata": {},
          "execution_count": 19
        }
      ]
    },
    {
      "cell_type": "code",
      "source": [
        "import re\n",
        "\n",
        "p = re.compile('(\\w+) (\\w+) (\\w+)')\n",
        "result = p.match('hello hallo hollo hillo hallo')\n",
        "result.group(1, 2) # 그룹1, 그룹2"
      ],
      "metadata": {
        "colab": {
          "base_uri": "https://localhost:8080/"
        },
        "id": "O2F0VCVVHFNE",
        "outputId": "c5fbbb03-c6cb-43f4-ca87-14bb91fdd93f"
      },
      "execution_count": null,
      "outputs": [
        {
          "output_type": "execute_result",
          "data": {
            "text/plain": [
              "('hello', 'hallo')"
            ]
          },
          "metadata": {},
          "execution_count": 20
        }
      ]
    },
    {
      "cell_type": "code",
      "source": [
        "# 아래 문법은 match 말고도 다른 문법에서도 사용이 가능합니다.\n",
        "m = re.match(r\"(?P<first_name>\\w+) (?P<last_name>\\w+)\", \"Malcolm Reynolds\")\n",
        "m.group('first_name'), m.group('last_name')"
      ],
      "metadata": {
        "colab": {
          "base_uri": "https://localhost:8080/"
        },
        "id": "feqZ5qOXHqNp",
        "outputId": "3ab4448e-7470-48ca-da8a-e36320263d70"
      },
      "execution_count": null,
      "outputs": [
        {
          "output_type": "execute_result",
          "data": {
            "text/plain": [
              "('Malcolm', 'Reynolds')"
            ]
          },
          "metadata": {},
          "execution_count": 23
        }
      ]
    },
    {
      "cell_type": "code",
      "source": [
        "m[0]"
      ],
      "metadata": {
        "colab": {
          "base_uri": "https://localhost:8080/",
          "height": 35
        },
        "id": "PAkUYZbuInQN",
        "outputId": "f54e7ac7-219d-4a33-b8b4-ee5e25d569d1"
      },
      "execution_count": null,
      "outputs": [
        {
          "output_type": "execute_result",
          "data": {
            "text/plain": [
              "'Malcolm Reynolds'"
            ],
            "application/vnd.google.colaboratory.intrinsic+json": {
              "type": "string"
            }
          },
          "metadata": {},
          "execution_count": 24
        }
      ]
    },
    {
      "cell_type": "code",
      "source": [
        "m[1], m[2]"
      ],
      "metadata": {
        "colab": {
          "base_uri": "https://localhost:8080/"
        },
        "id": "LylsjdYaIo8A",
        "outputId": "5d059124-610f-4ac3-c413-7c3af8864395"
      },
      "execution_count": null,
      "outputs": [
        {
          "output_type": "execute_result",
          "data": {
            "text/plain": [
              "('Malcolm', 'Reynolds')"
            ]
          },
          "metadata": {},
          "execution_count": 25
        }
      ]
    },
    {
      "cell_type": "code",
      "source": [
        "m = re.match(r\"010-(?P<앞자리>[0-9]{4})-(?P<뒷자리>[0-9]{4})\", \"010-1000-2000\")\n",
        "m.group('앞자리'), m.group('뒷자리')"
      ],
      "metadata": {
        "colab": {
          "base_uri": "https://localhost:8080/"
        },
        "id": "WntXG8bhJFOb",
        "outputId": "f5c8f316-2004-4339-a639-c5cdc0f66414"
      },
      "execution_count": null,
      "outputs": [
        {
          "output_type": "execute_result",
          "data": {
            "text/plain": [
              "('1000', '2000')"
            ]
          },
          "metadata": {},
          "execution_count": 26
        }
      ]
    },
    {
      "cell_type": "code",
      "source": [
        "# 실제로 실무에서 match 사용되는 패턴 (공식문서)\n",
        "valid = re.compile(r\"^[a2-9tjqk]{5}$\")\n",
        "\n",
        "def displaymatch(match):\n",
        "    if match is None:\n",
        "        return None\n",
        "    return '<Match: %r, groups=%r>' % (match.group(), match.groups())\n",
        "\n",
        "displaymatch(valid.match(\"akt5q\"))"
      ],
      "metadata": {
        "colab": {
          "base_uri": "https://localhost:8080/",
          "height": 35
        },
        "id": "2g9f5OMxPi_0",
        "outputId": "1acad0fc-8553-45c0-8ab0-d72ec2efc022"
      },
      "execution_count": null,
      "outputs": [
        {
          "output_type": "execute_result",
          "data": {
            "text/plain": [
              "\"<Match: 'akt5q', groups=()>\""
            ],
            "application/vnd.google.colaboratory.intrinsic+json": {
              "type": "string"
            }
          },
          "metadata": {},
          "execution_count": 28
        }
      ]
    },
    {
      "cell_type": "code",
      "source": [
        "# 실제로 실무에서 match 사용되는 패턴 (공식문서)\n",
        "valid = re.compile(r\"^[a2-9tjqk]{5}$\")\n",
        "\n",
        "def displaymatch(match):\n",
        "    if match is None:\n",
        "        return None\n",
        "    return '해당 패턴에 매칭됩니다!'\n",
        "\n",
        "displaymatch(valid.match(\"akt5q\"))"
      ],
      "metadata": {
        "colab": {
          "base_uri": "https://localhost:8080/",
          "height": 35
        },
        "id": "_ezpn_GVPkt0",
        "outputId": "48e402b8-0ded-4b22-8bd3-55c2d230061c"
      },
      "execution_count": null,
      "outputs": [
        {
          "output_type": "execute_result",
          "data": {
            "text/plain": [
              "'해당 패턴에 매칭됩니다!'"
            ],
            "application/vnd.google.colaboratory.intrinsic+json": {
              "type": "string"
            }
          },
          "metadata": {},
          "execution_count": 29
        }
      ]
    },
    {
      "cell_type": "markdown",
      "source": [
        "## sub"
      ],
      "metadata": {
        "id": "eAMZq4JXPwto"
      }
    },
    {
      "cell_type": "code",
      "source": [
        "# 문제 링크 : https://school.programmers.co.kr/learn/courses/30/lessons/120849"
      ],
      "metadata": {
        "id": "1-zo-9DoPxYJ"
      },
      "execution_count": null,
      "outputs": []
    },
    {
      "cell_type": "code",
      "source": [
        "def solution(my_string):\n",
        "    return my_string.replace('a', '').replace('e', '').replace('i', '').replace('o', '').replace('u', '')"
      ],
      "metadata": {
        "id": "zQ6pjZDBPzfU"
      },
      "execution_count": null,
      "outputs": []
    },
    {
      "cell_type": "code",
      "source": [
        "def solution(my_string):\n",
        "    string = 'aeiou'\n",
        "    for i in string:\n",
        "        my_string = my_string.replace(i, '')\n",
        "    return my_string"
      ],
      "metadata": {
        "id": "6mICKpTmP0pW"
      },
      "execution_count": null,
      "outputs": []
    },
    {
      "cell_type": "code",
      "source": [
        "import re\n",
        "\n",
        "def solution(my_string):\n",
        "    return re.sub(r\"[aeiou]\", \"\", my_string)"
      ],
      "metadata": {
        "id": "J565_TCGP1vs"
      },
      "execution_count": null,
      "outputs": []
    },
    {
      "cell_type": "code",
      "source": [
        "import re\n",
        "\n",
        "solution = lambda my_string: re.sub(r\"[aeiou]\", \"\", my_string)"
      ],
      "metadata": {
        "id": "lipin5thP32f"
      },
      "execution_count": null,
      "outputs": []
    },
    {
      "cell_type": "markdown",
      "source": [
        "## (230515) 연습문제\n",
        "* 다음 숫자를 모두 포함하는 정규표현식을 만들어주세요. 참고로 지역번호 들어가야 합니다.\n",
        "    ```\n",
        "    010-9091-5491\n",
        "    010-5043-2901\n",
        "    010-5050-40409\n",
        "    010 2913 3132\n",
        "    01019133829\n",
        "    064-721-3213\n",
        "    010.1913.3829\n",
        "    ```"
      ],
      "metadata": {
        "id": "WECz239FQmUc"
      }
    },
    {
      "cell_type": "code",
      "source": [
        "import re\n",
        "\n",
        "data = '''010-9091-5491\n",
        "  010-5043-2901\n",
        "  010-5050-40409\n",
        "  010 2913 3132\n",
        "  01019133829\n",
        "  064-721-3213\n",
        "  010.1913.3829\n",
        "  '''\n",
        "\n",
        "p = re.compile(r'([0-9]{3}[-. ]?[0-9]{3,5}[-. ]?[0-9]{3,5})')\n",
        "p.findall(data)"
      ],
      "metadata": {
        "colab": {
          "base_uri": "https://localhost:8080/"
        },
        "id": "lfBVWzRDQ8dc",
        "outputId": "3ed3db24-9ba3-4ce7-c428-39d0a03890fb"
      },
      "execution_count": null,
      "outputs": [
        {
          "output_type": "execute_result",
          "data": {
            "text/plain": [
              "['010-9091-5491',\n",
              " '010-5043-2901',\n",
              " '010-5050-40409',\n",
              " '010 2913 3132',\n",
              " '01019133829',\n",
              " '064-721-3213',\n",
              " '010.1913.3829']"
            ]
          },
          "metadata": {},
          "execution_count": 52
        }
      ]
    }
  ]
}