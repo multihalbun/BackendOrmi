{
  "nbformat": 4,
  "nbformat_minor": 0,
  "metadata": {
    "colab": {
      "provenance": [],
      "authorship_tag": "ABX9TyPibYPf8KF3XdG6h2AJMS14",
      "include_colab_link": true
    },
    "kernelspec": {
      "name": "python3",
      "display_name": "Python 3"
    },
    "language_info": {
      "name": "python"
    }
  },
  "cells": [
    {
      "cell_type": "markdown",
      "metadata": {
        "id": "view-in-github",
        "colab_type": "text"
      },
      "source": [
        "<a href=\"https://colab.research.google.com/github/multihalbun/BackendOrmi/blob/main/crawling_basic.ipynb\" target=\"_parent\"><img src=\"https://colab.research.google.com/assets/colab-badge.svg\" alt=\"Open In Colab\"/></a>"
      ]
    },
    {
      "cell_type": "code",
      "source": [
        "# 크롤링, 웹 스크래핑: 웹에 있는 데이터를 가지고 온다"
      ],
      "metadata": {
        "id": "pWqihEoinOxK"
      },
      "execution_count": null,
      "outputs": []
    },
    {
      "cell_type": "code",
      "execution_count": null,
      "metadata": {
        "id": "OCT2GSLVmDhC"
      },
      "outputs": [],
      "source": [
        "# 데이터를 가져오는 라이브러리: requests\n",
        "# 가져온 데이터를 가공하는 라이브러리: beautifulsoup"
      ]
    },
    {
      "cell_type": "code",
      "source": [
        "# 크롤링대상: https://paullab.co.kr/stock.html"
      ],
      "metadata": {
        "id": "1VO9It2SoBCo"
      },
      "execution_count": null,
      "outputs": []
    },
    {
      "cell_type": "code",
      "source": [
        "import requests\n",
        "from bs4 import BeautifulSoup\n",
        "\n",
        "response = requests.get('http://www.paullab.co.kr/stock.html')\n",
        "\n",
        "response.encoding = 'utf-8'\n",
        "html = response.text\n",
        "\n",
        "soup = BeautifulSoup(html, 'html.parser')"
      ],
      "metadata": {
        "id": "1PFQXn5LoL7e"
      },
      "execution_count": null,
      "outputs": []
    },
    {
      "cell_type": "code",
      "source": [
        "soup.title"
      ],
      "metadata": {
        "colab": {
          "base_uri": "https://localhost:8080/"
        },
        "id": "h4PDSprto0tM",
        "outputId": "70d09c34-240f-4a3a-ac95-423b183da6d5"
      },
      "execution_count": null,
      "outputs": [
        {
          "output_type": "execute_result",
          "data": {
            "text/plain": [
              "<title>Document</title>"
            ]
          },
          "metadata": {},
          "execution_count": 2
        }
      ]
    },
    {
      "cell_type": "code",
      "source": [
        "soup.select('.tables')"
      ],
      "metadata": {
        "colab": {
          "base_uri": "https://localhost:8080/"
        },
        "id": "XD8BekgnpRA9",
        "outputId": "31f47c66-a3da-414a-8ff5-d9a40c85b62d"
      },
      "execution_count": null,
      "outputs": [
        {
          "output_type": "execute_result",
          "data": {
            "text/plain": [
              "[<div class=\"tables\">\n",
              " <table class=\"border-style\" summary=\"시가총액 정보\">\n",
              " <tr>\n",
              " <th class=\"strong\" scope=\"row\">시가총액</th>\n",
              " <!-- 공백은 의도적으로 넣은 것입니다. -->\n",
              " <td class=\"strong\"><em id=\"_market_sum\">349조 2,323</em>억원</td>\n",
              " </tr>\n",
              " <tr>\n",
              " <th scope=\"row\">\n",
              " <a class=\"link_site\" href=\"#\">시가총액순위<i class=\"fas fa-caret-right\"></i></a>\n",
              " </th>\n",
              " <!-- 공백은 의도적으로 넣은 것입니다. -->\n",
              " <td>위니브월드 <em id=\"_market_sum\">1</em>위</td>\n",
              " </tr>\n",
              " <tr>\n",
              " <th scope=\"row\">상장주식수</th>\n",
              " <!-- 공백은 의도적으로 넣은 것입니다. -->\n",
              " <td><em id=\"_market_sum\">5,969,782,550</em></td>\n",
              " </tr>\n",
              " </table>\n",
              " <table class=\"border-style\" summary=\"업종상세 정보\">\n",
              " <tr>\n",
              " <th class=\"strong\" scope=\"row\">현재가</th>\n",
              " <td class=\"strong\"><em id=\"_market_sum\">349조 2,323</em>억원</td>\n",
              " </tr>\n",
              " <tr>\n",
              " <th scope=\"row\">52주 최고 <span class=\"bar\">l</span> 최저</th>\n",
              " <td>\n",
              " <em>62,800</em>\n",
              " <span class=\"bar\">l</span>\n",
              " <em>42,300</em>\n",
              " </td>\n",
              " </tr>\n",
              " <tr>\n",
              " <th scope=\"row\">배당수익률 <span class=\"bar\">l</span><span> 2019.12</span>\n",
              " <a alt=\"배당수익률 상세설명\" class=\"help\" href=\"#\"><em>?</em></a>\n",
              " <div class=\"lyr_section\" style=\"display:none\">\n",
              " <div class=\"tooltip_lyr dividend_layer\" id=\"helpPannel5\">\n",
              " <strong>배당수익률 = (배당금 / 현재가) x 100</strong>\n",
              " <p>배당금은 최근 결산연도 기준의 중간배당을 포함한 총 배당금입니다.</p>\n",
              " <span class=\"arrow\"></span>\n",
              " </div>\n",
              " </div>\n",
              " </th>\n",
              " <td>\n",
              " <em id=\"_dvr\">2.42</em>%\n",
              "                 </td>\n",
              " </tr>\n",
              " </table>\n",
              " <table>\n",
              " <tr>\n",
              " <th class=\"strong\" scope=\"row\">매출</th>\n",
              " <!-- <td>22조 1,250억원</td> -->\n",
              " <td class=\"strong\">22,125,034,978,750원</td>\n",
              " </tr>\n",
              " <tr>\n",
              " <th scope=\"row\">비용</th>\n",
              " <!-- <td>19조 2,238억원</td> -->\n",
              " <td>19,223,803,154,781원</td>\n",
              " </tr>\n",
              " <tr>\n",
              " <th scope=\"row\">순익</th>\n",
              " <!-- <td><em id=\"_market_sum\">2조 9,012억원</em></td> -->\n",
              " <td><em id=\"_market_sum\">2,901,231,823,969원</em></td>\n",
              " </tr>\n",
              " </table>\n",
              " </div>]"
            ]
          },
          "metadata": {},
          "execution_count": 3
        }
      ]
    },
    {
      "cell_type": "code",
      "source": [
        "총액정보 = soup.select('.tables')\n",
        "총액정보[0].select('table')[0]"
      ],
      "metadata": {
        "colab": {
          "base_uri": "https://localhost:8080/"
        },
        "id": "LhpNKJlZp-aj",
        "outputId": "2991125c-1c5d-4728-be3e-e55d875b3a99"
      },
      "execution_count": null,
      "outputs": [
        {
          "output_type": "execute_result",
          "data": {
            "text/plain": [
              "<table class=\"border-style\" summary=\"시가총액 정보\">\n",
              "<tr>\n",
              "<th class=\"strong\" scope=\"row\">시가총액</th>\n",
              "<!-- 공백은 의도적으로 넣은 것입니다. -->\n",
              "<td class=\"strong\"><em id=\"_market_sum\">349조 2,323</em>억원</td>\n",
              "</tr>\n",
              "<tr>\n",
              "<th scope=\"row\">\n",
              "<a class=\"link_site\" href=\"#\">시가총액순위<i class=\"fas fa-caret-right\"></i></a>\n",
              "</th>\n",
              "<!-- 공백은 의도적으로 넣은 것입니다. -->\n",
              "<td>위니브월드 <em id=\"_market_sum\">1</em>위</td>\n",
              "</tr>\n",
              "<tr>\n",
              "<th scope=\"row\">상장주식수</th>\n",
              "<!-- 공백은 의도적으로 넣은 것입니다. -->\n",
              "<td><em id=\"_market_sum\">5,969,782,550</em></td>\n",
              "</tr>\n",
              "</table>"
            ]
          },
          "metadata": {},
          "execution_count": 8
        }
      ]
    },
    {
      "cell_type": "code",
      "source": [
        "총액정보 = soup.select('#_market_sum')\n",
        "총액정보[2].text"
      ],
      "metadata": {
        "colab": {
          "base_uri": "https://localhost:8080/",
          "height": 35
        },
        "id": "a8icskbQqm-E",
        "outputId": "cee3d78d-e535-47fc-b4db-968979a4e521"
      },
      "execution_count": null,
      "outputs": [
        {
          "output_type": "execute_result",
          "data": {
            "text/plain": [
              "'5,969,782,550'"
            ],
            "application/vnd.google.colaboratory.intrinsic+json": {
              "type": "string"
            }
          },
          "metadata": {},
          "execution_count": 9
        }
      ]
    },
    {
      "cell_type": "code",
      "source": [
        "# advanced 과제 : 제주코딩베이스캠프 연구원에\n",
        "# 2019.09.24일 부터 2019.10.23일까지 거래된 거래총량을 구해주세요.\n",
        "\n",
        "# https://paullab.co.kr/stock.html"
      ],
      "metadata": {
        "id": "d8sAqLeVyCyY"
      },
      "execution_count": null,
      "outputs": []
    },
    {
      "cell_type": "code",
      "source": [
        "import requests\n",
        "from bs4 import BeautifulSoup\n",
        "\n",
        "response = requests.get('http://www.paullab.co.kr/stock.html')\n",
        "\n",
        "response.encoding = 'utf-8'\n",
        "html = response.text\n",
        "\n",
        "soup = BeautifulSoup(html, 'html.parser')"
      ],
      "metadata": {
        "id": "TldNWCj3y2CN"
      },
      "execution_count": null,
      "outputs": []
    },
    {
      "cell_type": "code",
      "source": [
        "# 테이블을 list로 저장\n",
        "table = soup.select('.table.table-hover')[0].select('tr')\n",
        "\n",
        "# 테이블 헤더를 list로 저장\n",
        "table_header = list(map(lambda x : x.text, table[0].select('th')))\n",
        "\n",
        "sum = 0\n",
        "for i in range(1, len(table)):\n",
        "    # 테이블의 각 행의 거래량 요소를 text로 변환후 ','를 지우고 int로 변환\n",
        "    sum += int(table[i].select('td')[table_header.index('거래량')].text.replace(',', ''))\n",
        "print(sum)"
      ],
      "metadata": {
        "colab": {
          "base_uri": "https://localhost:8080/"
        },
        "id": "k_tdKtNZ0WCr",
        "outputId": "c1fa5172-24ff-4480-dba9-5590849bffa2"
      },
      "execution_count": null,
      "outputs": [
        {
          "output_type": "stream",
          "name": "stdout",
          "text": [
            "13067306\n"
          ]
        }
      ]
    },
    {
      "cell_type": "code",
      "source": [
        "# 테이블을 2차원 배열로 저장\n",
        "table = soup.select('.table.table-hover')[0].select('tr')\n",
        "\n",
        "table_header = list(map(lambda x : x.text, table[0].select('th')))\n",
        "new_table = []\n",
        "for row in table:\n",
        "    cols = []\n",
        "    for col in row.select('td > span'):\n",
        "        cols.append(col.text.replace('\\n', '').replace(' ', ''))\n",
        "    if cols:\n",
        "     new_table.append(cols)\n",
        "\n",
        "print(table_header)\n",
        "new_table"
      ],
      "metadata": {
        "colab": {
          "base_uri": "https://localhost:8080/"
        },
        "id": "6f3tQURH3lut",
        "outputId": "83e5e09d-c4ba-4c07-c658-1a95b8cfa585"
      },
      "execution_count": null,
      "outputs": [
        {
          "output_type": "stream",
          "name": "stdout",
          "text": [
            "['날짜', '종가', '전일비', '시가', '고가', '저가', '거래량']\n"
          ]
        },
        {
          "output_type": "execute_result",
          "data": {
            "text/plain": [
              "[['2019.10.23', '6,650', '20', '6,590', '6,830', '6,580', '398,421'],\n",
              " ['2019.10.22', '6,630', '190', '6,830', '6,930', '6,530', '919,571'],\n",
              " ['2019.10.21', '6,820', '390', '6,440', '6,890', '6,360', '1,678,055'],\n",
              " ['2019.10.18', '6,430', '480', '6,020', '6,620', '5,970', '2,168,857'],\n",
              " ['2019.10.17', '5,950', '20', '6,100', '6,180', '5,840', '1,982,922'],\n",
              " ['2019.10.16', '5,930', '290', '5,620', '5,930', '5,350', '839,434'],\n",
              " ['2019.10.15', '5,640', '260', '5,370', '5,660', '5,300', '702,104'],\n",
              " ['2019.10.14', '5,380', '340', '5,060', '5,420', '5,060', '764,800'],\n",
              " ['2019.10.11', '5,040', '60', '5,100', '5,170', '5,020', '134,558'],\n",
              " ['2019.10.10', '5,100', '50', '5,000', '5,120', '4,970', '288,563'],\n",
              " ['2019.10.08', '5,050', '110', '4,985', '5,050', '4,910', '223,839'],\n",
              " ['2019.10.07', '4,940', '70', '4,990', '5,110', '4,905', '199,580'],\n",
              " ['2019.10.04', '5,010', '90', '4,900', '5,050', '4,900', '188,467'],\n",
              " ['2019.10.02', '4,920', '90', '4,930', '5,000', '4,900', '160,510'],\n",
              " ['2019.10.01', '5,010', '10', '4,950', '5,050', '4,950', '246,145'],\n",
              " ['2019.09.30', '5,000', '10', '5,180', '5,300', '4,990', '705,046'],\n",
              " ['2019.09.27', '5,010', '50', '5,020', '5,080', '4,865', '408,859'],\n",
              " ['2019.09.26', '5,060', '0', '5,130', '5,200', '4,965', '404,633'],\n",
              " ['2019.09.25', '5,060', '270', '5,280', '5,320', '5,040', '441,923'],\n",
              " ['2019.09.24', '5,330', '10', '5,300', '5,370', '5,280', '211,019']]"
            ]
          },
          "metadata": {},
          "execution_count": 63
        }
      ]
    },
    {
      "cell_type": "markdown",
      "source": [],
      "metadata": {
        "id": "eBh9yjaj3zsT"
      }
    }
  ]
}